{
 "cells": [
  {
   "cell_type": "code",
   "execution_count": 9,
   "metadata": {},
   "outputs": [],
   "source": [
    "#导入包\n",
    "import matplotlib.pyplot as plt\n",
    "import numpy as np\n",
    "import pandas as pd\n",
    "import mpl_toolkits.axisartist as axisartist\n",
    "import math \n",
    "import matplotlib as mpl \n",
    "import networkx as nx\n",
    "from scipy import integrate"
   ]
  },
  {
   "cell_type": "code",
   "execution_count": 10,
   "metadata": {},
   "outputs": [
    {
     "name": "stderr",
     "output_type": "stream",
     "text": [
      "E:\\Anaconda\\lib\\site-packages\\openpyxl\\styles\\stylesheet.py:214: UserWarning: Workbook contains no default style, apply openpyxl's default\n",
      "  warn(\"Workbook contains no default style, apply openpyxl's default\")\n"
     ]
    },
    {
     "data": {
      "image/png": "[encoded data removed]",
      "text/plain": [
       "<Figure size 288x288 with 1 Axes>"
      ]
     },
     "metadata": {
      "needs_background": "light"
     },
     "output_type": "display_data"
    }
   ],
   "source": [
    "#手动输入Q的长度,根据excel读取连接两点,绘制邻接矩阵\n",
    "def matrix_z():\n",
    "    #输入Q的长度\n",
    "    len_Q=100\n",
    "    #读取excel连接两点数据\n",
    "    df1=pd.read_excel('mydata.xlsx')\n",
    "    arr=np.array([df1['a'],df1['b']])-1\n",
    "    x=np.array(range(0,len_Q))\n",
    "    G = nx.DiGraph()# 无多重边无向图\n",
    "    #点\n",
    "    G.add_nodes_from(x)  # 添加多个节点\n",
    "    #边，将相连的两放进去\n",
    "    for i in range(0,len(arr[0])):\n",
    "        G.add_edges_from([(arr[0][i]+1,arr[1][i]+1)])\n",
    "    #边，节点自连接\n",
    "    for i in range(0,len_Q):\n",
    "        G.add_edges_from([(i+1,i+1)])\n",
    "    \n",
    "    # 画图的邻接矩阵\n",
    "    matrix_arr=np.array(nx.adjacency_matrix(G).todense())\n",
    "    #matrix_arr=nx.adjacency_matrix(G).todense()\n",
    "    colors = ['while','yellow'] \n",
    "    cmap = mpl.colors.ListedColormap(colors)\n",
    "    plt.matshow(np.transpose(matrix_arr))\n",
    "    \n",
    "    #图的一些设置\n",
    "    #plt.xlabel('N',fontsize=20)\n",
    "    #plt.ylabel('N',fontsize=20)\n",
    "    plt.title('VVG',fontsize=20,y=0.87,x=0.85,color='red')\n",
    "    \n",
    "    #保存图片\n",
    "    #plt.savefig('VVG_Ecoli_100.png',dpi=600)\n",
    "    \n",
    "    #plt.show()\n",
    "    \n",
    "    #return p1\n",
    "\n",
    "#调用函数\n",
    "matrix_z()"
   ]
  },
  {
   "cell_type": "code",
   "execution_count": 11,
   "metadata": {},
   "outputs": [],
   "source": [
    "#计算有向度分布图的横纵坐标\n",
    "def getXY2(arr,len_Q):\n",
    "    x=np.array(range(0,len_Q))\n",
    "    G = nx.DiGraph()# 无多重边有向图\n",
    "    G.clear()\n",
    "    #点\n",
    "    G.add_nodes_from(x)\n",
    "    #边，将相连的两放进去\n",
    "    for i in range(0,len(arr[0])):\n",
    "        G.add_edges_from([(arr[0][i],arr[1][i])])    \n",
    "    #画度分布图\n",
    "    #得到不同度的个数\n",
    "    \n",
    "    #入度\n",
    "    indexs=pd.DataFrame(G.in_degree).iloc[:,1].value_counts().index\n",
    "    values=pd.DataFrame(G.in_degree).iloc[:,1].value_counts().values\n",
    "    indegree = [0 for _ in range(max(indexs)+1)]\n",
    "    v=0\n",
    "    for i in indexs:\n",
    "        indegree[i]=values[v]\n",
    "        v=v+1\n",
    "    #生成X轴序列，从1到最大度\n",
    "    xin=range(0,len(indegree))\n",
    "    #将频次转化为频率，利用列表内涵\n",
    "    yin=[z/float(sum(indegree))for z in indegree]\n",
    "    \n",
    "    #出度\n",
    "    indexs=pd.DataFrame(G.out_degree).iloc[:,1].value_counts().index\n",
    "    values=pd.DataFrame(G.out_degree).iloc[:,1].value_counts().values\n",
    "    outdegree = [0 for _ in range(max(indexs)+1)]\n",
    "    v=0\n",
    "    for i in indexs:\n",
    "        outdegree[i]=values[v]\n",
    "        v=v+1\n",
    "    #生成X轴序列，从1到最大度\n",
    "    xout=range(0,len(outdegree))\n",
    "    #将频次转化为频率，利用列表内涵\n",
    "    yout=[z/float(sum(outdegree))for z in outdegree]\n",
    "    \n",
    "    return np.array([[xin,yin],[xout,yout]])\n"
   ]
  },
  {
   "cell_type": "code",
   "execution_count": 12,
   "metadata": {},
   "outputs": [
    {
     "name": "stderr",
     "output_type": "stream",
     "text": [
      "E:\\Anaconda\\lib\\site-packages\\openpyxl\\styles\\stylesheet.py:214: UserWarning: Workbook contains no default style, apply openpyxl's default\n",
      "  warn(\"Workbook contains no default style, apply openpyxl's default\")\n"
     ]
    },
    {
     "data": {
      "image/png": "[encoded data removed]",
      "text/plain": [
       "<Figure size 432x288 with 1 Axes>"
      ]
     },
     "metadata": {
      "needs_background": "light"
     },
     "output_type": "display_data"
    }
   ],
   "source": [
    "#入度度分布图\n",
    "def degree_plot():\n",
    "    # 这两行代码解决 plt 中文显示的问题\n",
    "    plt.rcParams['font.sans-serif'] = ['Microsoft YaHei'] \n",
    "    plt.rcParams['axes.unicode_minus'] = False\n",
    "    plt.ylim(-0.05,0.3)\n",
    "    #plt.xlim(1e0,1e2)\n",
    "    #plt.xscale('log')\n",
    "    #plt.yscale('log')\n",
    "    \n",
    "    #数据\n",
    "    df1=pd.read_excel('mydata.xlsx')\n",
    "    arrVVG=np.array([df1['a'],df1['b']])-1\n",
    "        \n",
    "    #画图(入度)\n",
    "    plt.plot(getXY2(arrVVG,100)[0][0],getXY2(arrVVG,100)[0][1],color=\"blue\",label='VVG')\n",
    "    length=len(getXY2(arrVVG,100)[0][0])\n",
    "    lastx=getXY2(arrVVG,100)[0][0][length-1]\n",
    "    lasty2=getXY2(arrVVG,100)[0][1][length-1]\n",
    "    plt.vlines(lastx, -0.05, lasty2, linestyles='dashed', colors='lightcoral', linewidth=1)\n",
    "    plt.text(lastx,-0.045,int(lastx),fontdict={'size':'13','color':'b'})\n",
    "    \n",
    "    #图的一些设置\n",
    "    #plt.title('长度为300的随机序列',y=1.03)\n",
    "    plt.xlabel('k',fontsize=20)\n",
    "    plt.ylabel('p(k)',fontsize=20)\n",
    "    plt.legend()# 显示图例，即每条线对应 label 中的内容\n",
    "    \n",
    "    #保存图片\n",
    "    #plt.savefig('VVG度分布图(入度)_Ecoli100.png',dpi=600)\n",
    "    \n",
    "    #显示图表\n",
    "    plt.show()\n",
    "    \n",
    "degree_plot()"
   ]
  },
  {
   "cell_type": "code",
   "execution_count": 13,
   "metadata": {},
   "outputs": [
    {
     "name": "stderr",
     "output_type": "stream",
     "text": [
      "E:\\Anaconda\\lib\\site-packages\\openpyxl\\styles\\stylesheet.py:214: UserWarning: Workbook contains no default style, apply openpyxl's default\n",
      "  warn(\"Workbook contains no default style, apply openpyxl's default\")\n"
     ]
    },
    {
     "data": {
      "image/png": "[encoded data removed]",
      "text/plain": [
       "<Figure size 432x288 with 1 Axes>"
      ]
     },
     "metadata": {
      "needs_background": "light"
     },
     "output_type": "display_data"
    }
   ],
   "source": [
    "#出度度分布图\n",
    "def degree_plot():\n",
    "    # 这两行代码解决 plt 中文显示的问题\n",
    "    plt.rcParams['font.sans-serif'] = ['Microsoft YaHei'] \n",
    "    plt.rcParams['axes.unicode_minus'] = False\n",
    "    plt.ylim(-0.05,0.3)\n",
    "    #plt.xlim(1e0,1e2)\n",
    "    #plt.xscale('log')\n",
    "    #plt.yscale('log')\n",
    "    \n",
    "    #数据\n",
    "    df1=pd.read_excel('mydata.xlsx')\n",
    "    arrVVG=np.array([df1['a'],df1['b']])-1\n",
    "        \n",
    "    #画图(出度)\n",
    "    plt.plot(getXY2(arrVVG,100)[1][0],getXY2(arrVVG,100)[1][1],color=\"blue\",label='VVG')\n",
    "    length=len(getXY2(arrVVG,100)[1][0])\n",
    "    lastx=getXY2(arrVVG,100)[1][0][length-1]\n",
    "    lasty2=getXY2(arrVVG,100)[1][1][length-1]\n",
    "    plt.vlines(lastx, -0.05, lasty2, linestyles='dashed', colors='lightcoral', linewidth=1)\n",
    "    plt.text(lastx,-0.045,int(lastx),fontdict={'size':'13','color':'b'})\n",
    "    \n",
    "    #图的一些设置\n",
    "    #plt.title('长度为300的随机序列',y=1.03)\n",
    "    plt.xlabel('k',fontsize=20)\n",
    "    plt.ylabel('p(k)',fontsize=20)\n",
    "    plt.legend()# 显示图例，即每条线对应 label 中的内容\n",
    "    \n",
    "    #保存图片\n",
    "    #plt.savefig('VVG度分布图(出度)_Ecoli100.png',dpi=600)\n",
    "    \n",
    "    #显示图表\n",
    "    plt.show()\n",
    "    \n",
    "degree_plot()"
   ]
  }
 ],
 "metadata": {
  "kernelspec": {
   "display_name": "Python 3",
   "language": "python",
   "name": "python3"
  },
  "language_info": {
   "codemirror_mode": {
    "name": "ipython",
    "version": 3
   },
   "file_extension": ".py",
   "mimetype": "text/x-python",
   "name": "python",
   "nbconvert_exporter": "python",
   "pygments_lexer": "ipython3",
   "version": "3.8.5"
  }
 },
 "nbformat": 4,
 "nbformat_minor": 4
}
